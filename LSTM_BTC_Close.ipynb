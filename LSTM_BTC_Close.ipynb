{
  "nbformat": 4,
  "nbformat_minor": 0,
  "metadata": {
    "colab": {
      "name": "LSTM_BTC_Close.ipynb",
      "provenance": [],
      "collapsed_sections": []
    },
    "kernelspec": {
      "name": "python3",
      "display_name": "Python 3"
    },
    "language_info": {
      "name": "python"
    },
    "accelerator": "GPU"
  },
  "cells": [
    {
      "cell_type": "code",
      "execution_count": null,
      "metadata": {
        "colab": {
          "base_uri": "https://localhost:8080/"
        },
        "id": "lZoQ_F5IPZeY",
        "outputId": "ff4a1bd6-b0d8-4032-c1ed-c84547579dbf"
      },
      "outputs": [
        {
          "output_type": "stream",
          "name": "stdout",
          "text": [
            "Requirement already satisfied: yfinance in /usr/local/lib/python3.7/dist-packages (0.1.70)\n",
            "Requirement already satisfied: pandas>=0.24.0 in /usr/local/lib/python3.7/dist-packages (from yfinance) (1.3.5)\n",
            "Requirement already satisfied: multitasking>=0.0.7 in /usr/local/lib/python3.7/dist-packages (from yfinance) (0.0.10)\n",
            "Requirement already satisfied: requests>=2.26 in /usr/local/lib/python3.7/dist-packages (from yfinance) (2.27.1)\n",
            "Requirement already satisfied: lxml>=4.5.1 in /usr/local/lib/python3.7/dist-packages (from yfinance) (4.8.0)\n",
            "Requirement already satisfied: numpy>=1.15 in /usr/local/lib/python3.7/dist-packages (from yfinance) (1.21.5)\n",
            "Requirement already satisfied: python-dateutil>=2.7.3 in /usr/local/lib/python3.7/dist-packages (from pandas>=0.24.0->yfinance) (2.8.2)\n",
            "Requirement already satisfied: pytz>=2017.3 in /usr/local/lib/python3.7/dist-packages (from pandas>=0.24.0->yfinance) (2018.9)\n",
            "Requirement already satisfied: six>=1.5 in /usr/local/lib/python3.7/dist-packages (from python-dateutil>=2.7.3->pandas>=0.24.0->yfinance) (1.15.0)\n",
            "Requirement already satisfied: urllib3<1.27,>=1.21.1 in /usr/local/lib/python3.7/dist-packages (from requests>=2.26->yfinance) (1.24.3)\n",
            "Requirement already satisfied: idna<4,>=2.5 in /usr/local/lib/python3.7/dist-packages (from requests>=2.26->yfinance) (2.10)\n",
            "Requirement already satisfied: charset-normalizer~=2.0.0 in /usr/local/lib/python3.7/dist-packages (from requests>=2.26->yfinance) (2.0.12)\n",
            "Requirement already satisfied: certifi>=2017.4.17 in /usr/local/lib/python3.7/dist-packages (from requests>=2.26->yfinance) (2021.10.8)\n"
          ]
        }
      ],
      "source": [
        "!pip install yfinance"
      ]
    },
    {
      "cell_type": "code",
      "source": [
        "import yfinance as yf\n",
        "import pandas as pd\n",
        "import matplotlib.pyplot as plt\n",
        "import numpy as np"
      ],
      "metadata": {
        "id": "1i34C6SWPkkD"
      },
      "execution_count": null,
      "outputs": []
    },
    {
      "cell_type": "code",
      "source": [
        "data = yf.Ticker('BTC-USD').history('2y','1d')\n",
        "data.shape\n"
      ],
      "metadata": {
        "colab": {
          "base_uri": "https://localhost:8080/"
        },
        "id": "G4MDqXmhPout",
        "outputId": "7827cd3d-fdd2-497a-fc71-3aeb340e1d1c"
      },
      "execution_count": null,
      "outputs": [
        {
          "output_type": "execute_result",
          "data": {
            "text/plain": [
              "(731, 7)"
            ]
          },
          "metadata": {},
          "execution_count": 33
        }
      ]
    },
    {
      "cell_type": "code",
      "source": [
        "useful_data = data['Close']\n",
        "useful_data.head()"
      ],
      "metadata": {
        "colab": {
          "base_uri": "https://localhost:8080/"
        },
        "id": "qNq48sabPqj3",
        "outputId": "83034c3c-7024-4e90-c242-ad5ed4b78530"
      },
      "execution_count": null,
      "outputs": [
        {
          "output_type": "execute_result",
          "data": {
            "text/plain": [
              "Date\n",
              "2020-04-09    7302.089355\n",
              "2020-04-10    6865.493164\n",
              "2020-04-11    6859.083008\n",
              "2020-04-12    6971.091797\n",
              "2020-04-13    6845.037598\n",
              "Name: Close, dtype: float64"
            ]
          },
          "metadata": {},
          "execution_count": 34
        }
      ]
    },
    {
      "cell_type": "code",
      "source": [
        "n=60"
      ],
      "metadata": {
        "id": "Zoqrk8IEPx0m"
      },
      "execution_count": null,
      "outputs": []
    },
    {
      "cell_type": "code",
      "source": [
        "train=np.array(useful_data.iloc[:data.shape[0]-n]).reshape(-1,1)\n",
        "test=np.array(useful_data.iloc[data.shape[0]-n:]).reshape(-1,1)\n",
        "train.shape,test.shape"
      ],
      "metadata": {
        "colab": {
          "base_uri": "https://localhost:8080/"
        },
        "id": "uCJVCFiKPyJV",
        "outputId": "168a095f-8d45-4dd2-f6ea-05784662a915"
      },
      "execution_count": null,
      "outputs": [
        {
          "output_type": "execute_result",
          "data": {
            "text/plain": [
              "((671, 1), (60, 1))"
            ]
          },
          "metadata": {},
          "execution_count": 36
        }
      ]
    },
    {
      "cell_type": "code",
      "source": [
        ""
      ],
      "metadata": {
        "id": "j9h33QW7GNt3"
      },
      "execution_count": null,
      "outputs": []
    },
    {
      "cell_type": "code",
      "source": [
        "from sklearn.preprocessing import MinMaxScaler\n",
        "scaler = MinMaxScaler()"
      ],
      "metadata": {
        "id": "vYz3IQT4PzlQ"
      },
      "execution_count": null,
      "outputs": []
    },
    {
      "cell_type": "code",
      "source": [
        "#scaler.fit(train)\n",
        "#train_scaled = scaler.transform(train)\n",
        "#test_scaled = scaler.transform(test)\n",
        "train_max=train.max()\n",
        "test_max=test.max()\n",
        "print(train_max,test_max)\n",
        "train_scaled=train/train_max\n",
        "test_scaled=test/test_max\n",
        "print(train_scaled.max(),test_scaled.max())\n"
      ],
      "metadata": {
        "id": "HRKU9tGdP1lg",
        "colab": {
          "base_uri": "https://localhost:8080/"
        },
        "outputId": "03b577d5-c56e-47a3-c666-321c34f74ab6"
      },
      "execution_count": null,
      "outputs": [
        {
          "output_type": "stream",
          "name": "stdout",
          "text": [
            "67566.828125 47465.73046875\n",
            "1.0 1.0\n"
          ]
        }
      ]
    },
    {
      "cell_type": "code",
      "source": [
        "train_scaled[:10]"
      ],
      "metadata": {
        "colab": {
          "base_uri": "https://localhost:8080/"
        },
        "id": "3YjiGWRoP3BM",
        "outputId": "dd0c2fe4-0463-446b-fb56-69eb1c589a8f"
      },
      "execution_count": null,
      "outputs": [
        {
          "output_type": "execute_result",
          "data": {
            "text/plain": [
              "array([[0.10807211],\n",
              "       [0.10161041],\n",
              "       [0.10151554],\n",
              "       [0.10317329],\n",
              "       [0.10130767],\n",
              "       [0.10126904],\n",
              "       [0.0983043 ],\n",
              "       [0.10532985],\n",
              "       [0.10502468],\n",
              "       [0.10741462]])"
            ]
          },
          "metadata": {},
          "execution_count": 39
        }
      ]
    },
    {
      "cell_type": "code",
      "source": [
        "from keras.preprocessing.sequence import TimeseriesGenerator\n",
        "n_input=n\n",
        "n_features=1\n",
        "generator=TimeseriesGenerator(train_scaled,train_scaled,length=n_input,batch_size=n_features)"
      ],
      "metadata": {
        "id": "Zz9Gk2l_QH4f"
      },
      "execution_count": null,
      "outputs": []
    },
    {
      "cell_type": "code",
      "source": [
        "X,y=generator[0]\n",
        "print(f'given array : {X.flatten()}')\n",
        "print(f'predict this : {y}')\n"
      ],
      "metadata": {
        "colab": {
          "base_uri": "https://localhost:8080/"
        },
        "id": "yq08TFBQQJ7x",
        "outputId": "161c615e-f0fa-4346-966c-f29290b22087"
      },
      "execution_count": null,
      "outputs": [
        {
          "output_type": "stream",
          "name": "stdout",
          "text": [
            "given array : [0.10807211 0.10161041 0.10151554 0.10317329 0.10130767 0.10126904\n",
            " 0.0983043  0.10532985 0.10502468 0.10741462 0.10640465 0.1018541\n",
            " 0.1018299  0.10533582 0.10996113 0.11175456 0.11203628 0.11366328\n",
            " 0.11537616 0.11554573 0.13025679 0.128148   0.13119998 0.13303269\n",
            " 0.13168398 0.13190873 0.1332469  0.13717917 0.14728409 0.14567305\n",
            " 0.14199122 0.12959659 0.12730797 0.13030769 0.13719731 0.14406066\n",
            " 0.13805883 0.13878132 0.14312851 0.14395489 0.14399134 0.14094167\n",
            " 0.13441154 0.13590363 0.13629894 0.13009887 0.13182407 0.13076021\n",
            " 0.13588055 0.14098266 0.13970056 0.1435677  0.1400252  0.15047722\n",
            " 0.14104264 0.14292099 0.14505101 0.14305146 0.14287602 0.1444326 ]\n",
            "predict this : [[0.14461962]]\n"
          ]
        }
      ]
    },
    {
      "cell_type": "code",
      "source": [
        "import tensorflow as tf\n",
        "\n",
        "model=tf.keras.models.Sequential()\n",
        "model.add(tf.keras.layers.LSTM(50,input_shape=(n_input,1),return_sequences=True))\n",
        "model.add(tf.keras.layers.LSTM(80,return_sequences=True))\n",
        "model.add(tf.keras.layers.LSTM(100,return_sequences=True))\n",
        "model.add(tf.keras.layers.LSTM(120,return_sequences=False))\n",
        "\n",
        "model.add(tf.keras.layers.Dense(1))\n",
        "model.compile(optimizer='adam',loss='mse')"
      ],
      "metadata": {
        "id": "w9PHFmdkQLYF"
      },
      "execution_count": null,
      "outputs": []
    },
    {
      "cell_type": "code",
      "source": [
        "model.summary()"
      ],
      "metadata": {
        "colab": {
          "base_uri": "https://localhost:8080/"
        },
        "id": "4J1gu-I3QPxX",
        "outputId": "a88a5ff7-25ed-4354-9c4c-e03afd319c86"
      },
      "execution_count": null,
      "outputs": [
        {
          "output_type": "stream",
          "name": "stdout",
          "text": [
            "Model: \"sequential_2\"\n",
            "_________________________________________________________________\n",
            " Layer (type)                Output Shape              Param #   \n",
            "=================================================================\n",
            " lstm_8 (LSTM)               (None, 60, 50)            10400     \n",
            "                                                                 \n",
            " lstm_9 (LSTM)               (None, 60, 80)            41920     \n",
            "                                                                 \n",
            " lstm_10 (LSTM)              (None, 60, 100)           72400     \n",
            "                                                                 \n",
            " lstm_11 (LSTM)              (None, 120)               106080    \n",
            "                                                                 \n",
            " dense_2 (Dense)             (None, 1)                 121       \n",
            "                                                                 \n",
            "=================================================================\n",
            "Total params: 230,921\n",
            "Trainable params: 230,921\n",
            "Non-trainable params: 0\n",
            "_________________________________________________________________\n"
          ]
        }
      ]
    },
    {
      "cell_type": "code",
      "source": [
        "earlystopper = tf.keras.callbacks.EarlyStopping(monitor='loss',patience=5, restore_best_weights=True)"
      ],
      "metadata": {
        "id": "29Bg4PPt-dgx"
      },
      "execution_count": null,
      "outputs": []
    },
    {
      "cell_type": "code",
      "source": [
        "model.fit(generator,epochs=50,verbose=2,callbacks=[earlystopper])"
      ],
      "metadata": {
        "colab": {
          "base_uri": "https://localhost:8080/"
        },
        "id": "byZ0reOSQROd",
        "outputId": "121c503f-7b5a-4213-8e1b-cfb3caaa9086"
      },
      "execution_count": null,
      "outputs": [
        {
          "output_type": "stream",
          "name": "stdout",
          "text": [
            "Epoch 1/50\n",
            "611/611 - 33s - loss: 0.0124 - 33s/epoch - 53ms/step\n",
            "Epoch 2/50\n",
            "611/611 - 25s - loss: 0.0049 - 25s/epoch - 40ms/step\n",
            "Epoch 3/50\n",
            "611/611 - 25s - loss: 0.0035 - 25s/epoch - 40ms/step\n",
            "Epoch 4/50\n",
            "611/611 - 24s - loss: 0.0025 - 24s/epoch - 40ms/step\n",
            "Epoch 5/50\n",
            "611/611 - 24s - loss: 0.0019 - 24s/epoch - 40ms/step\n",
            "Epoch 6/50\n",
            "611/611 - 24s - loss: 0.0019 - 24s/epoch - 40ms/step\n",
            "Epoch 7/50\n",
            "611/611 - 24s - loss: 0.0015 - 24s/epoch - 40ms/step\n",
            "Epoch 8/50\n",
            "611/611 - 24s - loss: 0.0013 - 24s/epoch - 40ms/step\n",
            "Epoch 9/50\n",
            "611/611 - 24s - loss: 0.0013 - 24s/epoch - 40ms/step\n",
            "Epoch 10/50\n",
            "611/611 - 24s - loss: 0.0012 - 24s/epoch - 40ms/step\n",
            "Epoch 11/50\n",
            "611/611 - 25s - loss: 0.0020 - 25s/epoch - 40ms/step\n",
            "Epoch 12/50\n",
            "611/611 - 25s - loss: 9.7158e-04 - 25s/epoch - 40ms/step\n",
            "Epoch 13/50\n",
            "611/611 - 25s - loss: 0.0012 - 25s/epoch - 40ms/step\n",
            "Epoch 14/50\n",
            "611/611 - 25s - loss: 0.0013 - 25s/epoch - 40ms/step\n",
            "Epoch 15/50\n",
            "611/611 - 25s - loss: 9.6007e-04 - 25s/epoch - 40ms/step\n",
            "Epoch 16/50\n",
            "611/611 - 25s - loss: 9.7378e-04 - 25s/epoch - 40ms/step\n",
            "Epoch 17/50\n",
            "611/611 - 24s - loss: 0.0011 - 24s/epoch - 40ms/step\n",
            "Epoch 18/50\n",
            "611/611 - 25s - loss: 0.0018 - 25s/epoch - 40ms/step\n",
            "Epoch 19/50\n",
            "611/611 - 24s - loss: 0.0011 - 24s/epoch - 40ms/step\n",
            "Epoch 20/50\n",
            "611/611 - 24s - loss: 8.7881e-04 - 24s/epoch - 40ms/step\n",
            "Epoch 21/50\n",
            "611/611 - 25s - loss: 8.6046e-04 - 25s/epoch - 40ms/step\n",
            "Epoch 22/50\n",
            "611/611 - 25s - loss: 9.9346e-04 - 25s/epoch - 40ms/step\n",
            "Epoch 23/50\n",
            "611/611 - 25s - loss: 9.8498e-04 - 25s/epoch - 40ms/step\n",
            "Epoch 24/50\n",
            "611/611 - 24s - loss: 8.8458e-04 - 24s/epoch - 40ms/step\n",
            "Epoch 25/50\n",
            "611/611 - 24s - loss: 0.0010 - 24s/epoch - 40ms/step\n",
            "Epoch 26/50\n",
            "611/611 - 25s - loss: 9.6358e-04 - 25s/epoch - 40ms/step\n"
          ]
        },
        {
          "output_type": "execute_result",
          "data": {
            "text/plain": [
              "<keras.callbacks.History at 0x7f345e28a650>"
            ]
          },
          "metadata": {},
          "execution_count": 45
        }
      ]
    },
    {
      "cell_type": "code",
      "source": [
        "plt.plot(model.history.history['loss'])"
      ],
      "metadata": {
        "colab": {
          "base_uri": "https://localhost:8080/",
          "height": 282
        },
        "id": "zcHVGQKaT60C",
        "outputId": "c6403cad-c9d0-4986-d8fb-1f84391c8ea0"
      },
      "execution_count": null,
      "outputs": [
        {
          "output_type": "execute_result",
          "data": {
            "text/plain": [
              "[<matplotlib.lines.Line2D at 0x7f348867abd0>]"
            ]
          },
          "metadata": {},
          "execution_count": 46
        },
        {
          "output_type": "display_data",
          "data": {
            "text/plain": [
              "<Figure size 432x288 with 1 Axes>"
            ],
            "image/png": "[encoded data removed]"
          },
          "metadata": {
            "needs_background": "light"
          }
        }
      ]
    },
    {
      "cell_type": "code",
      "source": [
        "last_train_batch=train_scaled[-n_input:].reshape(-1,n_input,1)\n",
        "last_train_batch.shape"
      ],
      "metadata": {
        "colab": {
          "base_uri": "https://localhost:8080/"
        },
        "id": "J1TF7gg6QSwS",
        "outputId": "bf0e22a5-20b5-444a-ce81-cd5da4521b34"
      },
      "execution_count": null,
      "outputs": [
        {
          "output_type": "execute_result",
          "data": {
            "text/plain": [
              "(1, 60, 1)"
            ]
          },
          "metadata": {},
          "execution_count": 47
        }
      ]
    },
    {
      "cell_type": "code",
      "source": [
        "model.predict(last_train_batch)"
      ],
      "metadata": {
        "colab": {
          "base_uri": "https://localhost:8080/"
        },
        "id": "G5Z8tz0VQf4A",
        "outputId": "8e7caec0-6765-4622-b52a-2579b8bfd72d"
      },
      "execution_count": null,
      "outputs": [
        {
          "output_type": "execute_result",
          "data": {
            "text/plain": [
              "array([[0.69289666]], dtype=float32)"
            ]
          },
          "metadata": {},
          "execution_count": 48
        }
      ]
    },
    {
      "cell_type": "code",
      "source": [
        "test_scaled[0]"
      ],
      "metadata": {
        "colab": {
          "base_uri": "https://localhost:8080/"
        },
        "id": "ow8iruwrQgBI",
        "outputId": "c0f109df-6bae-4e85-e876-5d03e26528b0"
      },
      "execution_count": null,
      "outputs": [
        {
          "output_type": "execute_result",
          "data": {
            "text/plain": [
              "array([0.93412229])"
            ]
          },
          "metadata": {},
          "execution_count": 49
        }
      ]
    },
    {
      "cell_type": "code",
      "source": [
        "test_pred=[]\n",
        "curr_batch=last_train_batch.reshape(-1,n_input,1)\n",
        "for i in range(len(test_scaled)-1):\n",
        "  curr_pred=model.predict(curr_batch)[0]\n",
        "\n",
        "  test_pred.append(curr_pred)\n",
        "\n",
        "  curr_batch=np.append(curr_batch[:,1:,:],[[test_scaled[i+1]]],axis=1)\n"
      ],
      "metadata": {
        "id": "zbZOe2_rQhd7"
      },
      "execution_count": null,
      "outputs": []
    },
    {
      "cell_type": "code",
      "source": [
        "#true_pred=scaler.inverse_transform(test_pred)\n",
        "true_pred = np.array(test_pred)*test_max"
      ],
      "metadata": {
        "id": "p6uZi1ErQjO8"
      },
      "execution_count": null,
      "outputs": []
    },
    {
      "cell_type": "code",
      "source": [
        "print('Actual',test[0])\n",
        "print('Pred  ',true_pred[0])\n",
        "print('Diff    ',true_pred[0]-test[0])"
      ],
      "metadata": {
        "colab": {
          "base_uri": "https://localhost:8080/"
        },
        "id": "sWHCPwqqQtGW",
        "outputId": "cabb67e3-c8ab-4114-b9f7-63ea863f6cd1"
      },
      "execution_count": null,
      "outputs": [
        {
          "output_type": "stream",
          "name": "stdout",
          "text": [
            "Actual [44338.796875]\n",
            "Pred   [32888.848]\n",
            "Diff     [-11449.94921875]\n"
          ]
        }
      ]
    },
    {
      "cell_type": "code",
      "source": [
        "plt.figure(figsize=(10,5))\n",
        "plt.plot(true_pred,label='Pred',color='red')\n",
        "plt.plot(test,label='Actual',color='gray')\n",
        "plt.legend()"
      ],
      "metadata": {
        "colab": {
          "base_uri": "https://localhost:8080/",
          "height": 338
        },
        "id": "Rcl6Mb5ZQu5p",
        "outputId": "2c962252-f73a-4be3-dd2f-c47ac629b668"
      },
      "execution_count": null,
      "outputs": [
        {
          "output_type": "execute_result",
          "data": {
            "text/plain": [
              "<matplotlib.legend.Legend at 0x7f34881a8990>"
            ]
          },
          "metadata": {},
          "execution_count": 61
        },
        {
          "output_type": "display_data",
          "data": {
            "text/plain": [
              "<Figure size 720x360 with 1 Axes>"
            ],
            "image/png": "[encoded data removed]"
          },
          "metadata": {
            "needs_background": "light"
          }
        }
      ]
    },
    {
      "cell_type": "code",
      "source": [
        "model.predict(test_scaled.reshape(-1,60,1))*test_max\n",
        "model_pred=[43007.465]\n",
        "test.tail()"
      ],
      "metadata": {
        "colab": {
          "base_uri": "https://localhost:8080/"
        },
        "id": "Y5M3wz2BV6A-",
        "outputId": "6289981c-1c6c-4faa-b852-f1a58ade9b0f"
      },
      "execution_count": null,
      "outputs": [
        {
          "output_type": "execute_result",
          "data": {
            "text/plain": [
              "array([[43007.465]], dtype=float32)"
            ]
          },
          "metadata": {},
          "execution_count": 71
        }
      ]
    }
  ]
}